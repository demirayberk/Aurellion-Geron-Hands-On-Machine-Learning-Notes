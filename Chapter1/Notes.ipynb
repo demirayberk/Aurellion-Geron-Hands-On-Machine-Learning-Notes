{
 "cells": [
  {
   "attachments": {},
   "cell_type": "markdown",
   "metadata": {},
   "source": [
    "# Chapter 1 Fundementals Of Machine Learning."
   ]
  },
  {
   "attachments": {},
   "cell_type": "markdown",
   "metadata": {},
   "source": [
    "## Questions"
   ]
  },
  {
   "attachments": {},
   "cell_type": "markdown",
   "metadata": {},
   "source": [
    "## Keywords"
   ]
  },
  {
   "attachments": {},
   "cell_type": "markdown",
   "metadata": {},
   "source": [
    "## Notes\n",
    "### What is machine learning.\n",
    "\n",
    "- Machine learning is the science (and art) of programming so computers can learn from data.\n",
    "\n",
    "- Machine learning is the field of study that gives computers the ability to leran without being explicitle programmed\n",
    "\n",
    "- A computer program is said to learn from experience E with respect to some task T and some performance measure P, if its performance on T , as measured by P improves with experience E.\n",
    "\n",
    "### Why machine learning.\n",
    "\n",
    "- Machine learning is a technique to be used when traditional programming techniques are not enough.\n",
    "\n",
    "- For example if you want to detect spam filters with traditional programming techniques, you have to write rules for ever.\n",
    "\n",
    "- In contrast if you use a machine learning algorithm you just need to provide the computer with the user tagged spam filters, and computer will find the patterns between this inputs and outputs.\n",
    "\n",
    "- Also with machine learning models you can automate the process of "
   ]
  },
  {
   "attachments": {},
   "cell_type": "markdown",
   "metadata": {},
   "source": [
    "# Summary"
   ]
  }
 ],
 "metadata": {
  "language_info": {
   "name": "python"
  },
  "orig_nbformat": 4
 },
 "nbformat": 4,
 "nbformat_minor": 2
}
