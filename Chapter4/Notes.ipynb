{
 "cells": [
  {
   "attachments": {},
   "cell_type": "markdown",
   "metadata": {},
   "source": [
    "# Training Models"
   ]
  },
  {
   "attachments": {},
   "cell_type": "markdown",
   "metadata": {},
   "source": [
    "## Questions"
   ]
  },
  {
   "attachments": {},
   "cell_type": "markdown",
   "metadata": {},
   "source": [
    "## Keywords"
   ]
  },
  {
   "attachments": {},
   "cell_type": "markdown",
   "metadata": {},
   "source": [
    "## Notes\n",
    "\n",
    "### Linear Regression\n",
    "\n",
    "- Simply a linear regression model is\n",
    "\n",
    "y = a0 + a1x1 + a2x2 ....\n",
    "\n",
    "- The constant a0 is called the bias term.\n",
    "\n",
    "- y is the predictied value\n",
    "\n",
    "- n is the number of features\n",
    "\n",
    "- a is ith feature value\n",
    "\n",
    "- We first need a measure of how well (or poorly), the model fits the training data. In chapter 2 we saw that the most common performance measure of a regression model is the Root Mean Square error. We need the find a value of the vector theta that minimizes the RMSE and it leats to the same results.\n",
    "\n",
    "- The models complexity is n^2\n",
    "\n",
    "- It is increasing as features increasing\n",
    "\n",
    "Two solutions"
   ]
  }
 ],
 "metadata": {
  "language_info": {
   "name": "python"
  },
  "orig_nbformat": 4
 },
 "nbformat": 4,
 "nbformat_minor": 2
}
