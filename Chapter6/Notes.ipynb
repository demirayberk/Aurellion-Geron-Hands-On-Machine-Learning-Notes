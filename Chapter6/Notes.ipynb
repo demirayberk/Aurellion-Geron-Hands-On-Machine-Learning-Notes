{
 "cells": [
  {
   "attachments": {},
   "cell_type": "markdown",
   "metadata": {},
   "source": [
    "# Decision Trees\n",
    "\n",
    "## Notes\n",
    "\n",
    "## Training and Visualizing a Desicion tree.\n",
    "\n",
    "- Decision trees are also the fundemental components of random forests; which are among the most powerful machine learning algorithms available today."
   ]
  }
 ],
 "metadata": {
  "language_info": {
   "name": "python"
  },
  "orig_nbformat": 4
 },
 "nbformat": 4,
 "nbformat_minor": 2
}
